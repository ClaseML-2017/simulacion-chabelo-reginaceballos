{
 "cells": [
  {
   "cell_type": "markdown",
   "metadata": {},
   "source": [
    "# Chabelo\n",
    "1. 3 doors, 1 is the winning door, 1 is chosen by the contestant\n",
    "2. Chabelo opens the door that is not the winning door or the one chosen by the contestant\n",
    "3. The contestant chooses whether to switch doors or not\n",
    "\n",
    "Create a simulation and compare the win rate if the contestant switches doors or not."
   ]
  },
  {
   "cell_type": "code",
   "execution_count": 51,
   "metadata": {},
   "outputs": [
    {
     "name": "stdout",
     "output_type": "stream",
     "text": [
      "Success rate of switching doors:  65 %\n",
      "Success rate of not switching doors:  35 %\n"
     ]
    }
   ],
   "source": [
    "import random as rand\n",
    "\n",
    "doors = [1,2,3]\n",
    "change, nochange = 0, 0\n",
    "\n",
    "for i in range(0,100):\n",
    "    # Winning door\n",
    "    win = rand.choice(doors)\n",
    "    \n",
    "    # Chosen door\n",
    "    ch = rand.choice(doors)\n",
    "    \n",
    "    # Door that Chabelo opens\n",
    "    doors2 = [x for x in doors if x not in [win, ch]]\n",
    "    opend = rand.choice(doors2)\n",
    "\n",
    "    if (ch == win):\n",
    "        nochange = nochange + 1\n",
    "    else:\n",
    "        change = change + 1\n",
    "print 'Success rate of switching doors: ', change, '%'\n",
    "print 'Success rate of not switching doors: ', nochange, '%'"
   ]
  },
  {
   "cell_type": "markdown",
   "metadata": {},
   "source": [
    "Every time I tried the simulation, the success rate of switching doors was greater than the success rate of not switching. Therefore, if I was to face Chabelo, I would switch the door."
   ]
  },
  {
   "cell_type": "code",
   "execution_count": null,
   "metadata": {
    "collapsed": true
   },
   "outputs": [],
   "source": []
  }
 ],
 "metadata": {
  "anaconda-cloud": {},
  "kernelspec": {
   "display_name": "Python 2",
   "language": "python",
   "name": "python2"
  },
  "language_info": {
   "codemirror_mode": {
    "name": "ipython",
    "version": 2
   },
   "file_extension": ".py",
   "mimetype": "text/x-python",
   "name": "python",
   "nbconvert_exporter": "python",
   "pygments_lexer": "ipython2",
   "version": "2.7.13"
  }
 },
 "nbformat": 4,
 "nbformat_minor": 1
}
